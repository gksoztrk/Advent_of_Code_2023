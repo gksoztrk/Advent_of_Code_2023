{
 "cells": [
  {
   "cell_type": "code",
   "execution_count": 1,
   "metadata": {},
   "outputs": [],
   "source": [
    "import pandas as pd"
   ]
  },
  {
   "cell_type": "code",
   "execution_count": 2,
   "metadata": {},
   "outputs": [
    {
     "data": {
      "text/plain": [
       "0                   fivethreeonezblqnsfk1\n",
       "1                     two74119onebtqgnine\n",
       "2                       jrjh5vsrxbhsfour3\n",
       "3                  tn5eightfncnzcdtthree8\n",
       "4                               kpmrk5flx\n",
       "                      ...                \n",
       "995            ksbsddjcknsevensix293three\n",
       "996    rljzzbvd3zkmbpjt9eightninesnlrsone\n",
       "997    97ninesevenrhchvppnztvfbfpkzrbcone\n",
       "998            sevendxbninefour2fourclmln\n",
       "999         1rdtwofjvdllht5eightsixfourbl\n",
       "Name: 0, Length: 1000, dtype: object"
      ]
     },
     "execution_count": 2,
     "metadata": {},
     "output_type": "execute_result"
    }
   ],
   "source": [
    "df = pd.read_csv(r\"C:\\Users\\Goksu Ozturk\\Documents\\Python Scripts\\github\\data\\data_day1.csv\", header=None)\n",
    "df[0]\n"
   ]
  },
  {
   "cell_type": "code",
   "execution_count": 3,
   "metadata": {},
   "outputs": [],
   "source": [
    "digit_list_per_line=[]\n",
    "for i in range(len(df[0])):  \n",
    "    line = df[0][i]\n",
    "    separete_line = list(line)\n",
    "    list_digit = []\n",
    "    for j in range(len(separete_line)):\n",
    "        if separete_line[j].isnumeric():\n",
    "            list_digit.append(int(separete_line[j]))\n",
    "        else:\n",
    "            continue\n",
    "    digit_list_per_line.append(list_digit)       \n",
    "    \n"
   ]
  },
  {
   "cell_type": "code",
   "execution_count": 4,
   "metadata": {},
   "outputs": [],
   "source": [
    "\n",
    "\n",
    "number_list=[]\n",
    "for o in range(len(digit_list_per_line)):\n",
    "    if len(digit_list_per_line[o]) > 1:\n",
    "        number = int(str(digit_list_per_line[o][0]) + str(digit_list_per_line[o][-1])) \n",
    "    else: \n",
    "        number = int(str(digit_list_per_line[o][0]) + str(digit_list_per_line[o][0]))   \n",
    "    number_list.append(number)\n"
   ]
  },
  {
   "cell_type": "code",
   "execution_count": 5,
   "metadata": {},
   "outputs": [
    {
     "data": {
      "text/plain": [
       "56108"
      ]
     },
     "execution_count": 5,
     "metadata": {},
     "output_type": "execute_result"
    }
   ],
   "source": [
    "sum(number_list)"
   ]
  }
 ],
 "metadata": {
  "kernelspec": {
   "display_name": "Python 3",
   "language": "python",
   "name": "python3"
  },
  "language_info": {
   "codemirror_mode": {
    "name": "ipython",
    "version": 3
   },
   "file_extension": ".py",
   "mimetype": "text/x-python",
   "name": "python",
   "nbconvert_exporter": "python",
   "pygments_lexer": "ipython3",
   "version": "3.11.1"
  }
 },
 "nbformat": 4,
 "nbformat_minor": 2
}

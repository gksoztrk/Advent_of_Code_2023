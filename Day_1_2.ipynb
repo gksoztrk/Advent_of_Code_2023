{
 "cells": [
  {
   "cell_type": "code",
   "execution_count": 2,
   "metadata": {},
   "outputs": [],
   "source": [
    "import pandas as pd"
   ]
  },
  {
   "cell_type": "code",
   "execution_count": 43,
   "metadata": {},
   "outputs": [
    {
     "data": {
      "text/plain": [
       "0                   fivethreeonezblqnsfk1\n",
       "1                     two74119onebtqgnine\n",
       "2                       jrjh5vsrxbhsfour3\n",
       "3                  tn5eightfncnzcdtthree8\n",
       "4                               kpmrk5flx\n",
       "                      ...                \n",
       "995            ksbsddjcknsevensix293three\n",
       "996    rljzzbvd3zkmbpjt9eightninesnlrsone\n",
       "997    97ninesevenrhchvppnztvfbfpkzrbcone\n",
       "998            sevendxbninefour2fourclmln\n",
       "999         1rdtwofjvdllht5eightsixfourbl\n",
       "Name: 0, Length: 1000, dtype: object"
      ]
     },
     "execution_count": 43,
     "metadata": {},
     "output_type": "execute_result"
    }
   ],
   "source": [
    "df = pd.read_csv(r\"C:\\Users\\Goksu Ozturk\\Documents\\Python Scripts\\github\\data\\data_day1.csv\", header=None)\n",
    "df[0]\n",
    "\n"
   ]
  },
  {
   "cell_type": "code",
   "execution_count": 44,
   "metadata": {},
   "outputs": [],
   "source": [
    "words_dic = {\n",
    "        'one': 1,\n",
    "        'two': 2,\n",
    "        'three': 3,\n",
    "        'four': 4,\n",
    "        'five': 5,\n",
    "        'six': 6,\n",
    "        'seven': 7,\n",
    "        'eight': 8,\n",
    "        'nine': 9,\n",
    "        '1': 1,\n",
    "        '2': 2,\n",
    "        '3': 3,\n",
    "        '4': 4,\n",
    "        '5': 5,\n",
    "        '6': 6,\n",
    "        '7': 7,\n",
    "        '8': 8,\n",
    "        '9': 9,       \n",
    "    }"
   ]
  },
  {
   "cell_type": "code",
   "execution_count": 54,
   "metadata": {},
   "outputs": [],
   "source": [
    "\n",
    "\n",
    "digit_list_per_line=[]\n",
    "digit_list_per_line_reverse=[]\n",
    "for i in range(len(df[0])):  \n",
    "    line = df[0][i]\n",
    "    \n",
    "    res = [line.find(key) for key, val in words_dic.items()]\n",
    "    res_r = [line.rfind(key) for key, val in words_dic.items()]\n",
    "            \n",
    "    digit_list_per_line.append(res)\n",
    "    digit_list_per_line_reverse.append(res_r)\n",
    "\n"
   ]
  },
  {
   "cell_type": "code",
   "execution_count": 57,
   "metadata": {},
   "outputs": [],
   "source": [
    "true_list = []\n",
    "for j in range(len(digit_list_per_line)):\n",
    "    min_val = min(n for n in digit_list_per_line[j]  if n>=0)\n",
    "    max_val = max(digit_list_per_line_reverse[j])\n",
    "\n",
    "    indx_min = digit_list_per_line[j].index(min_val)\n",
    "    first = list(words_dic.items())[indx_min][1]\n",
    "    \n",
    "    indx_max = digit_list_per_line_reverse[j].index(max_val)\n",
    "    last = max_ = list(words_dic.items())[indx_max][1]\n",
    "    \n",
    "    number = int(str(first) + str(last)) \n",
    "\n",
    "    true_list.append(number)"
   ]
  },
  {
   "cell_type": "code",
   "execution_count": 58,
   "metadata": {},
   "outputs": [
    {
     "data": {
      "text/plain": [
       "55652"
      ]
     },
     "execution_count": 58,
     "metadata": {},
     "output_type": "execute_result"
    }
   ],
   "source": [
    "sum(true_list)"
   ]
  }
 ],
 "metadata": {
  "kernelspec": {
   "display_name": "Python 3",
   "language": "python",
   "name": "python3"
  },
  "language_info": {
   "codemirror_mode": {
    "name": "ipython",
    "version": 3
   },
   "file_extension": ".py",
   "mimetype": "text/x-python",
   "name": "python",
   "nbconvert_exporter": "python",
   "pygments_lexer": "ipython3",
   "version": "3.11.1"
  }
 },
 "nbformat": 4,
 "nbformat_minor": 2
}
